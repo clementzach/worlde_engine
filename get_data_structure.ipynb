{
 "cells": [
  {
   "cell_type": "code",
   "execution_count": 97,
   "id": "caf8d568",
   "metadata": {},
   "outputs": [],
   "source": [
    "import nltk \n",
    "import pandas as pd"
   ]
  },
  {
   "cell_type": "code",
   "execution_count": 98,
   "id": "7c6f2f50",
   "metadata": {},
   "outputs": [],
   "source": [
    "words_list =  nltk.corpus.words.words('en')\n",
    "words_list_df = pd.DataFrame(words_list, columns = ['word'])"
   ]
  },
  {
   "cell_type": "code",
   "execution_count": 99,
   "id": "7e21b34c",
   "metadata": {},
   "outputs": [],
   "source": [
    "\n",
    "\n",
    "words_list_df = words_list_df[\\\n",
    "                              words_list_df.word.apply(lambda x: len(x) == 5) &\\\n",
    "                              words_list_df.word.apply(lambda x: x.islower())].reset_index(drop = True).copy()\n",
    "\n",
    "\n",
    "\n"
   ]
  },
  {
   "cell_type": "code",
   "execution_count": 100,
   "id": "a16c3a5a",
   "metadata": {},
   "outputs": [],
   "source": [
    "for i in range(1, 6):\n",
    "    col_name = f\"letter_{i}\"\n",
    "    words_list_df[col_name] = words_list_df.word.apply(lambda x: x[i-1])"
   ]
  },
  {
   "cell_type": "code",
   "execution_count": 101,
   "id": "6482ab61",
   "metadata": {},
   "outputs": [],
   "source": [
    "import string\n",
    "\n",
    "\n",
    "for letter in string.ascii_lowercase:\n",
    "\n",
    "    words_list_df[letter] = words_list_df.word.apply(lambda x: x.count(letter))\n"
   ]
  },
  {
   "cell_type": "code",
   "execution_count": 102,
   "id": "fdff9b65",
   "metadata": {},
   "outputs": [
    {
     "data": {
      "text/plain": [
       "['a', 'e', 'r', 'o', 'i']"
      ]
     },
     "execution_count": 102,
     "metadata": {},
     "output_type": "execute_result"
    }
   ],
   "source": [
    "my_sums = words_list_df.sum()\n",
    "\n",
    "letters_list = []\n",
    "for letter in string.ascii_lowercase:\n",
    "    letters_list.append(letter)\n",
    "\n",
    "my_sums = my_sums[letters_list]\n",
    "\n",
    "#my_sums.sort_values(ascending = False)[0:3].index\n",
    "\n",
    "top_letters = words_list_df.sum()[letters_list].sort_values(ascending = False)[0:5].index.tolist()\n",
    "\n",
    "top_letters"
   ]
  },
  {
   "cell_type": "code",
   "execution_count": 103,
   "id": "42132740",
   "metadata": {},
   "outputs": [],
   "source": [
    "words_list_df.to_csv('words_list_df.csv', index = False)"
   ]
  },
  {
   "cell_type": "code",
   "execution_count": null,
   "id": "8c864a28",
   "metadata": {},
   "outputs": [],
   "source": []
  },
  {
   "cell_type": "code",
   "execution_count": null,
   "id": "7bc3d0bc",
   "metadata": {},
   "outputs": [],
   "source": [
    "\n"
   ]
  },
  {
   "cell_type": "code",
   "execution_count": null,
   "id": "35c17497",
   "metadata": {},
   "outputs": [],
   "source": []
  },
  {
   "cell_type": "code",
   "execution_count": null,
   "id": "f2b28ebe",
   "metadata": {},
   "outputs": [],
   "source": []
  },
  {
   "cell_type": "code",
   "execution_count": null,
   "id": "22b0461c",
   "metadata": {},
   "outputs": [],
   "source": [
    "\n"
   ]
  },
  {
   "cell_type": "code",
   "execution_count": null,
   "id": "66c1d356",
   "metadata": {},
   "outputs": [],
   "source": []
  },
  {
   "cell_type": "code",
   "execution_count": null,
   "id": "b771139d",
   "metadata": {},
   "outputs": [],
   "source": []
  },
  {
   "cell_type": "code",
   "execution_count": null,
   "id": "8eeabe3e",
   "metadata": {},
   "outputs": [],
   "source": []
  }
 ],
 "metadata": {
  "kernelspec": {
   "display_name": "Python 3 (ipykernel)",
   "language": "python",
   "name": "python3"
  },
  "language_info": {
   "codemirror_mode": {
    "name": "ipython",
    "version": 3
   },
   "file_extension": ".py",
   "mimetype": "text/x-python",
   "name": "python",
   "nbconvert_exporter": "python",
   "pygments_lexer": "ipython3",
   "version": "3.9.7"
  }
 },
 "nbformat": 4,
 "nbformat_minor": 5
}
